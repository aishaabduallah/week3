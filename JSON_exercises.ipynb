{
  "cells": [
    {
      "cell_type": "markdown",
      "metadata": {
        "id": "view-in-github",
        "colab_type": "text"
      },
      "source": [
        "<a href=\"https://colab.research.google.com/github/aishaabduallah/week3/blob/main/JSON_exercises.ipynb\" target=\"_parent\"><img src=\"https://colab.research.google.com/assets/colab-badge.svg\" alt=\"Open In Colab\"/></a>"
      ]
    },
    {
      "cell_type": "markdown",
      "id": "6b5c524a",
      "metadata": {
        "id": "6b5c524a"
      },
      "source": [
        "# JSON Practice Exercises\n",
        "\n",
        "These exercises will help you practice working with JSON in Python."
      ]
    },
    {
      "cell_type": "code",
      "source": [
        "import json"
      ],
      "metadata": {
        "id": "h4-vFCw9SelF"
      },
      "id": "h4-vFCw9SelF",
      "execution_count": 1,
      "outputs": []
    },
    {
      "cell_type": "markdown",
      "id": "530fc65c",
      "metadata": {
        "id": "530fc65c"
      },
      "source": [
        "## Exercise 1: Converting Python Objects to JSON\n",
        "\n",
        "Create a Python dictionary representing a book with the following attributes:\n",
        "- title\n",
        "- author\n",
        "- year\n",
        "\n",
        "Convert this dictionary to a JSON string using `json.dumps()` and print the result."
      ]
    },
    {
      "cell_type": "code",
      "execution_count": 15,
      "id": "f74a5ed5",
      "metadata": {
        "id": "f74a5ed5",
        "outputId": "13dbb4f7-4c4d-46a3-c242-073a0b84b09a",
        "colab": {
          "base_uri": "https://localhost:8080/"
        }
      },
      "outputs": [
        {
          "output_type": "stream",
          "name": "stdout",
          "text": [
            "{\n",
            "    \"title\": \"To Kill a Mockingbird\",\n",
            "    \"author\": \"Harper Lee\",\n",
            "    \"year\": 1960\n",
            "}\n"
          ]
        }
      ],
      "source": [
        "import json\n",
        "\n",
        "# Step 1: Create the Python dictionary\n",
        "book = {\n",
        "    \"title\": \"To Kill a Mockingbird\",\n",
        "    \"author\": \"Harper Lee\",\n",
        "    \"year\": 1960\n",
        "}\n",
        "\n",
        "# Step 2: Convert the dictionary to a JSON string with indentation\n",
        "book_json = json.dumps(book, indent=4)\n",
        "\n",
        "# Step 3: Print the JSON string\n",
        "print(book_json)\n",
        "\n"
      ]
    },
    {
      "cell_type": "markdown",
      "id": "84799d52",
      "metadata": {
        "id": "84799d52"
      },
      "source": [
        "## Exercise 2: Converting JSON to Python Objects\n",
        "\n",
        "Given the following JSON string:\n",
        "```json\n",
        "'{\"name\": \"Alice\", \"age\": 25, \"city\": \"Wonderland\"}'\n",
        "```\n",
        "Convert this JSON string to a Python dictionary using `json.loads()` and print the result."
      ]
    },
    {
      "cell_type": "code",
      "source": [
        "import json\n",
        "\n",
        "# Define the JSON string\n",
        "json_string = '{\"name\": \"Alice\", \"age\": 25, \"city\": \"Wonderland\"}'\n",
        "\n",
        "# Convert the JSON string to a Python dictionary\n",
        "python_dict = json.loads(json_string)\n",
        "\n",
        "# Print the result\n",
        "print(python_dict)\n"
      ],
      "metadata": {
        "id": "MVZAJHHdTLtj",
        "outputId": "10aa6406-5147-4ec9-9738-19e153df326a",
        "colab": {
          "base_uri": "https://localhost:8080/"
        }
      },
      "id": "MVZAJHHdTLtj",
      "execution_count": 16,
      "outputs": [
        {
          "output_type": "stream",
          "name": "stdout",
          "text": [
            "{'name': 'Alice', 'age': 25, 'city': 'Wonderland'}\n"
          ]
        }
      ]
    },
    {
      "cell_type": "markdown",
      "id": "e291d203",
      "metadata": {
        "id": "e291d203"
      },
      "source": [
        "## Exercise 3: Reading JSON from a File\n",
        "\n",
        "Write a Python script to read the following JSON data from a file named `data.json` and print it:\n",
        "```json\n",
        "{\n",
        "    \"name\": \"Bob\",\n",
        "    \"age\": 22,\n",
        "    \"city\": \"Paris\"\n",
        "}\n",
        "```"
      ]
    },
    {
      "source": [
        "import json\n",
        "\n",
        "data_json = {\n",
        "    \"name\": \"Bob\",\n",
        "    \"age\": 22,\n",
        "    \"city\": \"Paris\"\n",
        "}\n",
        "\n",
        "# Write the dictionary to a JSON file\n",
        "with open('data.json', 'w') as file:\n",
        "    json.dump(data_json, file)\n",
        "\n",
        "# Now you can read the file\n",
        "with open('data.json', 'r') as file:\n",
        "    # Load the JSON data from the file\n",
        "    data = json.load(file)\n",
        "\n",
        "# Print the JSON data\n",
        "print(data)"
      ],
      "cell_type": "code",
      "metadata": {
        "id": "6QPAvmRwXTeY",
        "outputId": "ad49bc4d-d7c5-45e0-c1b9-65dabae02f9c",
        "colab": {
          "base_uri": "https://localhost:8080/"
        }
      },
      "id": "6QPAvmRwXTeY",
      "execution_count": 36,
      "outputs": [
        {
          "output_type": "stream",
          "name": "stdout",
          "text": [
            "{'name': 'Bob', 'age': 22, 'city': 'Paris'}\n"
          ]
        }
      ]
    },
    {
      "cell_type": "markdown",
      "id": "7b83b8f8",
      "metadata": {
        "id": "7b83b8f8"
      },
      "source": [
        "## Exercise 4: Writing JSON to a File\n",
        "\n",
        "Create a Python dictionary representing a student with the following attributes:\n",
        "- name\n",
        "- grade\n",
        "- subjects (a list of subjects)\n",
        "\n",
        "Write this dictionary to a JSON file named `student.json` using `json.dump()`."
      ]
    },
    {
      "cell_type": "code",
      "source": [
        "import json\n",
        "\n",
        "# Create the Python dictionary\n",
        "student = {\n",
        "    \"name\": \"John Doe\",\n",
        "    \"grade\": \"A\",\n",
        "    \"subjects\": [\"Math\", \"Science\", \"History\"]\n",
        "}\n",
        "\n",
        "# Write the dictionary to a JSON file\n",
        "with open('student.json', 'w') as file:\n",
        "    json.dump(student, file, indent=4)\n"
      ],
      "metadata": {
        "id": "feOPngROXjik"
      },
      "id": "feOPngROXjik",
      "execution_count": 37,
      "outputs": []
    },
    {
      "cell_type": "markdown",
      "id": "7d9b3849",
      "metadata": {
        "id": "7d9b3849"
      },
      "source": [
        "## Exercise 5: Pretty Printing JSON\n",
        "\n",
        "Given a Python dictionary representing a movie with the following attributes:\n",
        "- title\n",
        "- director\n",
        "- year\n",
        "- genre\n",
        "\n",
        "Convert this dictionary to a JSON string with indentation using `json.dumps()` and print the result."
      ]
    },
    {
      "cell_type": "code",
      "execution_count": 38,
      "id": "cfe017d4",
      "metadata": {
        "id": "cfe017d4",
        "outputId": "5596d815-329c-4f25-d905-468622bacbad",
        "colab": {
          "base_uri": "https://localhost:8080/"
        }
      },
      "outputs": [
        {
          "output_type": "stream",
          "name": "stdout",
          "text": [
            "{\n",
            "    \"title\": \"Inception\",\n",
            "    \"director\": \"Christopher Nolan\",\n",
            "    \"year\": 2010,\n",
            "    \"genre\": \"Science Fiction\"\n",
            "}\n"
          ]
        }
      ],
      "source": [
        "\n",
        "# Step 1: Create the Python dictionary\n",
        "movie = {\n",
        "    \"title\": \"Inception\",\n",
        "    \"director\": \"Christopher Nolan\",\n",
        "    \"year\": 2010,\n",
        "    \"genre\": \"Science Fiction\"\n",
        "}\n",
        "\n",
        "# Step 2: Convert the dictionary to a JSON string with indentation\n",
        "movie_json = json.dumps(movie, indent=4)\n",
        "\n",
        "# Step 3: Print the JSON string\n",
        "print(movie_json)\n"
      ]
    },
    {
      "cell_type": "markdown",
      "source": [
        "##summary\n",
        "In this program, we cover the basics of working with JSON in Python, including converting between Python and JSON objects, reading from and writing to JSON files, and printing JSON data beautifully."
      ],
      "metadata": {
        "id": "srQZgGi-YGmP"
      },
      "id": "srQZgGi-YGmP"
    }
  ],
  "metadata": {
    "colab": {
      "provenance": [],
      "include_colab_link": true
    },
    "language_info": {
      "name": "python"
    },
    "kernelspec": {
      "name": "python3",
      "display_name": "Python 3"
    }
  },
  "nbformat": 4,
  "nbformat_minor": 5
}